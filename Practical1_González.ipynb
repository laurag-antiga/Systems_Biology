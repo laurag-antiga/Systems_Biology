{
 "cells": [
  {
   "cell_type": "markdown",
   "metadata": {},
   "source": [
    "**COMPUTATIONAL SYSTEMS BIOLOGY**\n",
    "\n",
    "---\n",
    "To submit your report, answer the questions below (creating new markdown cells to add your comments) and save the notebook clicking on File > Download as > iPython Notebook in the menu at the top of the page. Rename the notebook file to ''practicalN_name1_name2.ipynb'', where N is the number of the practical, and name1 and name2 are the first surnames of the two team members (only one name if the report is sent individually). Finally, submit the resulting file through the Aula Global.\n",
    "\n",
    "IMPORTANT: Before the final submission, remember to reset the kernel and re-run the whole notebook again to check that it works.\n",
    "\n",
    "---"
   ]
  },
  {
   "cell_type": "markdown",
   "metadata": {},
   "source": [
    "First we load all necessary modules. To execute the cell, select `Cell -> run` or click `Shift+Enter`."
   ]
  },
  {
   "cell_type": "code",
   "execution_count": 1,
   "metadata": {
    "ExecuteTime": {
     "end_time": "2019-05-14T08:34:49.134699Z",
     "start_time": "2019-05-14T08:34:47.253043Z"
    }
   },
   "outputs": [],
   "source": [
    "import numpy as np\n",
    "import matplotlib.pyplot as plt\n",
    "from scipy.integrate import odeint\n",
    "%matplotlib inline"
   ]
  },
  {
   "cell_type": "markdown",
   "metadata": {},
   "source": [
    "## Negative feedback"
   ]
  },
  {
   "cell_type": "markdown",
   "metadata": {},
   "source": [
    "Now we define the model describing a protein that inhibits its own expression, in the form\n",
    "\n",
    "$$\n",
    "\\frac{dx}{dt}=f(x)=\\frac{\\alpha}{1+(x/k)^n}-\\delta x \\equiv f(x)\n",
    "$$\n",
    "\n",
    "We also define the model parameters ($\\alpha=0.2$, $k=10$ nM, $n=2$, and $\\delta=1/100$ 1/min)."
   ]
  },
  {
   "cell_type": "code",
   "execution_count": 2,
   "metadata": {
    "ExecuteTime": {
     "end_time": "2019-05-14T08:35:14.129947Z",
     "start_time": "2019-05-14T08:35:14.125807Z"
    }
   },
   "outputs": [],
   "source": [
    "alpha = 0.2 #nM/min\n",
    "k = 10 #nM\n",
    "n = 2\n",
    "delta = 1/100 #1/min"
   ]
  },
  {
   "cell_type": "code",
   "execution_count": null,
   "metadata": {},
   "outputs": [],
   "source": [
    "help(odeint)"
   ]
  },
  {
   "cell_type": "markdown",
   "metadata": {},
   "source": [
    "Now we define the simulation parameters (total integration time equal to 1000 min, and measurement interval equal to 0.1 min) and integrate the equation starting for an initial condition $x_0=0.1$."
   ]
  },
  {
   "cell_type": "code",
   "execution_count": 3,
   "metadata": {
    "ExecuteTime": {
     "end_time": "2019-05-14T08:35:15.178128Z",
     "start_time": "2019-05-14T08:35:15.159193Z"
    }
   },
   "outputs": [],
   "source": [
    "Tmax = 1000 #the maximum time, we pass arange the initial (0) and this max\n",
    "dt = 0.1 #and how often we want a new time, in this case in seconds. If I put 10 seconds, we will only get a 100 points\n",
    "tvec = np.arange(0,Tmax,dt) #this will be the vector for odeint\n",
    "x0 = 0.1 #There is no protein at the begining\n",
    "\n",
    "def f(x,t):\n",
    "    dxdt = alpha/(1+(x/k)**n)-delta*x\n",
    "    return dxdt"
   ]
  },
  {
   "cell_type": "markdown",
   "metadata": {},
   "source": [
    "Finally, we plot the result."
   ]
  },
  {
   "cell_type": "code",
   "execution_count": 4,
   "metadata": {
    "ExecuteTime": {
     "end_time": "2019-05-14T08:35:25.569050Z",
     "start_time": "2019-05-14T08:35:25.453612Z"
    }
   },
   "outputs": [
    {
     "data": {
      "image/png": "[encoded data removed]",
      "text/plain": [
       "<Figure size 432x288 with 1 Axes>"
      ]
     },
     "metadata": {
      "needs_background": "light"
     },
     "output_type": "display_data"
    }
   ],
   "source": [
    "xout = odeint(f, x0, tvec)\n",
    "\n",
    "plt.plot(tvec, xout, label='x') #x and y axis\n",
    "plt.xlabel('time', fontsize=20)\n",
    "plt.ylabel('X', fontsize=20)\n",
    "plt.legend(fontsize=15)\n",
    "plt.show()"
   ]
  },
  {
   "cell_type": "markdown",
   "metadata": {},
   "source": [
    "Here we can see that even if \"there was no protein at the beggining\", the reaction can still happen and the concentration rises until more or less 10, where we can see it reaches a plateau, the steady state. "
   ]
  },
  {
   "cell_type": "markdown",
   "metadata": {},
   "source": [
    "Next we see what happens with different initial conditions."
   ]
  },
  {
   "cell_type": "code",
   "execution_count": null,
   "metadata": {
    "ExecuteTime": {
     "end_time": "2019-05-14T08:35:30.545103Z",
     "start_time": "2019-05-14T08:35:30.345603Z"
    }
   },
   "outputs": [],
   "source": [
    "x0v = np.arange(0, 25, 3)\n",
    "\n",
    "for x in x0v:\n",
    "    xout = odeint(f, x, tvec)\n",
    "    plt.plot(tvec, xout, label=x) #x and y axis\n",
    "    \n",
    "plt.xlabel('time', fontsize=20)\n",
    "plt.ylabel('X', fontsize=20)\n",
    "plt.legend(loc='upper right', fontsize=15)\n",
    "plt.show()"
   ]
  },
  {
   "cell_type": "markdown",
   "metadata": {},
   "source": [
    "Like in the previous figure, we can see the steady state plateau at x = 10, but he interesting thing is to see that the initial concentration of x is independent of this fact. The system will always stabilise at that concentration. \n",
    "We can see the speed changes a little depending on x inital value, but it always gets tot he same steady state, which ilustrates how stable negative feedbacks are"
   ]
  },
  {
   "cell_type": "markdown",
   "metadata": {},
   "source": [
    "We now go back to $x_0=0.1$ and compare what happens with and without feedback (defining a new function to integrate and choosing $\\alpha$ in the second case so that the steady state is approximately the same in both cases).\n",
    "For that the function has to be: \n",
    "\n",
    "$$\n",
    "\\frac{dx}{dt}=\\frac{\\alpha}{2}-\\delta x \\equiv f(x)\n",
    "$$"
   ]
  },
  {
   "cell_type": "code",
   "execution_count": null,
   "metadata": {
    "ExecuteTime": {
     "end_time": "2019-05-14T08:38:15.649529Z",
     "start_time": "2019-05-14T08:38:15.478699Z"
    }
   },
   "outputs": [],
   "source": [
    "x0 = 0.1\n",
    "\n",
    "def f2(x,t):\n",
    "    dxdt2 = alpha/2-delta*x\n",
    "    return dxdt2\n",
    "\n",
    "xout = odeint(f, x0, tvec)\n",
    "xout2 = odeint(f2, x0, tvec)\n",
    "\n",
    "plt.plot(tvec, xout2, label='no regulation')\n",
    "plt.plot(tvec, xout, label='negative feedback')\n",
    "plt.xlabel('time', fontsize=20)\n",
    "plt.ylabel('X', fontsize=20)\n",
    "plt.legend(fontsize=15)\n",
    "plt.show()"
   ]
  },
  {
   "cell_type": "markdown",
   "metadata": {},
   "source": [
    "This figure is to ilustrate that this system, without negative regultion, would also reach the same steady state, because at some point the production and degradation rate would be at an equilibrium, but it is clear that it would take much more time and, in biological systems, the efficiency is really important in order to save resources."
   ]
  },
  {
   "cell_type": "markdown",
   "metadata": {},
   "source": [
    "## Positive feedback"
   ]
  },
  {
   "cell_type": "markdown",
   "metadata": {},
   "source": [
    "We now simulate a protein that activates its own production via positive feedback, according to the equation:\n",
    "\n",
    "$$\n",
    "\\frac{dx}{dt}=f(x)=\\frac{\\alpha x^n}{k^n+x^n}-\\delta x\n",
    "$$\n",
    "\n",
    "We also define the model parameters ($\\alpha=0.21$, $k=10$ nM, $n=2$, and $\\delta=1/100$ 1/min)."
   ]
  },
  {
   "cell_type": "markdown",
   "metadata": {},
   "source": [
    "There are much less cases of positive feedback. "
   ]
  },
  {
   "cell_type": "code",
   "execution_count": null,
   "metadata": {
    "ExecuteTime": {
     "end_time": "2019-05-14T11:41:51.366559Z",
     "start_time": "2019-05-14T11:41:51.362727Z"
    }
   },
   "outputs": [],
   "source": [
    "alpha = 0.21 #nM/min\n",
    "k = 10 #nM\n",
    "delta = 1/100 #1/min\n",
    "n = 2 # Hill coefficient\n",
    "\n",
    "def f3(x, t):\n",
    "    dxdt3 = (alpha*(x**n))/((k**n)+(x**n))-delta*x\n",
    "    return dxdt3"
   ]
  },
  {
   "cell_type": "markdown",
   "metadata": {},
   "source": [
    "We now integrate the system for a variety of initial conditions."
   ]
  },
  {
   "cell_type": "code",
   "execution_count": null,
   "metadata": {
    "ExecuteTime": {
     "end_time": "2019-05-14T11:42:01.098580Z",
     "start_time": "2019-05-14T11:42:00.845310Z"
    },
    "scrolled": true
   },
   "outputs": [],
   "source": [
    "Tmax = 4000\n",
    "dt = 0.1\n",
    "x0v = np.arange(0, 15, 1)\n",
    "tvec = np.arange(0, Tmax, dt)\n",
    "\n",
    "for x in x0v:\n",
    "    xout = odeint(f3, x, tvec)\n",
    "    plt.plot(tvec, xout, label=x)\n",
    "\n",
    "plt.xlabel('time', fontsize=15)\n",
    "plt.ylabel('x', fontsize=15)\n",
    "plt.legend(fontsize=8)\n",
    "plt.show()"
   ]
  },
  {
   "cell_type": "markdown",
   "metadata": {},
   "source": [
    "Here we can see, with the same kind of simulation than in the previous example, a really different plot. \n",
    "This is because possitive feedback usually acts like a switch in biological systems, so it has 2 possible states. Two possible steady states, in fact. \n",
    "It is also different than in the negative feedback example that, in this case, the initial concentration of x does matter for the result. We can see, more or less, that an initial condition of x < 7 would lead the system to the 0 steady state (no protein), whereas with a higher initial concentration of x the system would evolve to the x ~= 13 steady state. \n",
    "We can deduce from here that, for this mere reason, possitive feedbacks are less stable than the negative ones, but they are also present in nature. "
   ]
  },
  {
   "cell_type": "markdown",
   "metadata": {},
   "source": [
    "Finally, we calculate the steady state for different values of $\\delta$ ranging from 1/50 to 1/500, and plot the steady state as a function of $\\delta$."
   ]
  },
  {
   "cell_type": "code",
   "execution_count": null,
   "metadata": {},
   "outputs": [],
   "source": [
    "dvec = x0v = np.arange(1/500, 1/50, 0.0001)"
   ]
  },
  {
   "cell_type": "markdown",
   "metadata": {},
   "source": [
    "For every value of delta, we should calculate the equation and pick and plot the positive value, so that we would see the line corresponding to the steady state in which there is portein concentration (because one steady state was without it). \n",
    "We should see a threshold where the line dissapears, because there's a value of delta for which the switch will \"turn off\". \n",
    "Also, if we would calculate either the line for the other steady state, that point for delta should coincide. "
   ]
  },
  {
   "cell_type": "code",
   "execution_count": null,
   "metadata": {},
   "outputs": [],
   "source": []
  }
 ],
 "metadata": {
  "hide_input": false,
  "kernelspec": {
   "display_name": "Python 3",
   "language": "python",
   "name": "python3"
  },
  "language_info": {
   "codemirror_mode": {
    "name": "ipython",
    "version": 3
   },
   "file_extension": ".py",
   "mimetype": "text/x-python",
   "name": "python",
   "nbconvert_exporter": "python",
   "pygments_lexer": "ipython3",
   "version": "3.7.3"
  },
  "toc": {
   "base_numbering": 1,
   "nav_menu": {},
   "number_sections": true,
   "sideBar": true,
   "skip_h1_title": false,
   "title_cell": "Table of Contents",
   "title_sidebar": "Contents",
   "toc_cell": false,
   "toc_position": {},
   "toc_section_display": true,
   "toc_window_display": false
  },
  "varInspector": {
   "cols": {
    "lenName": 16,
    "lenType": 16,
    "lenVar": 40
   },
   "kernels_config": {
    "python": {
     "delete_cmd_postfix": "",
     "delete_cmd_prefix": "del ",
     "library": "var_list.py",
     "varRefreshCmd": "print(var_dic_list())"
    },
    "r": {
     "delete_cmd_postfix": ") ",
     "delete_cmd_prefix": "rm(",
     "library": "var_list.r",
     "varRefreshCmd": "cat(var_dic_list()) "
    }
   },
   "types_to_exclude": [
    "module",
    "function",
    "builtin_function_or_method",
    "instance",
    "_Feature"
   ],
   "window_display": false
  }
 },
 "nbformat": 4,
 "nbformat_minor": 2
}
